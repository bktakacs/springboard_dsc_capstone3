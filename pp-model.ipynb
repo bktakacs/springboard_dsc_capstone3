{
 "cells": [
  {
   "cell_type": "markdown",
   "metadata": {},
   "source": [
    "# __Springboard Data Science Capstone 3 Project__\n",
    "# _Predicting the Price of Energy_\n",
    "\n",
    "### Pre-Processing & Modeling\n",
    "\n",
    "##### _Ben Takacs_\n",
    "###### __Python version 3.10.4__"
   ]
  },
  {
   "cell_type": "markdown",
   "metadata": {},
   "source": [
    "### __Imports and File Location__"
   ]
  },
  {
   "cell_type": "code",
   "execution_count": 1,
   "metadata": {},
   "outputs": [],
   "source": [
    "import numpy as np\n",
    "import pandas as pd\n",
    "import matplotlib.pyplot as plt\n",
    "from functions import load_csv_data\n",
    "\n",
    "from sklearn import preprocessing"
   ]
  },
  {
   "cell_type": "markdown",
   "metadata": {},
   "source": [
    "### __Load Data__"
   ]
  },
  {
   "cell_type": "code",
   "execution_count": 5,
   "metadata": {},
   "outputs": [
    {
     "data": {
      "text/html": [
       "<div>\n",
       "<style scoped>\n",
       "    .dataframe tbody tr th:only-of-type {\n",
       "        vertical-align: middle;\n",
       "    }\n",
       "\n",
       "    .dataframe tbody tr th {\n",
       "        vertical-align: top;\n",
       "    }\n",
       "\n",
       "    .dataframe thead th {\n",
       "        text-align: right;\n",
       "    }\n",
       "</style>\n",
       "<table border=\"1\" class=\"dataframe\">\n",
       "  <thead>\n",
       "    <tr style=\"text-align: right;\">\n",
       "      <th></th>\n",
       "      <th>Average Price of Electricity to Ultimate Customers, Residential</th>\n",
       "      <th>Total Renewable Energy Consumption</th>\n",
       "      <th>Total Petroleum Consumed by the Residential Sector</th>\n",
       "    </tr>\n",
       "    <tr>\n",
       "      <th>Month</th>\n",
       "      <th></th>\n",
       "      <th></th>\n",
       "      <th></th>\n",
       "    </tr>\n",
       "  </thead>\n",
       "  <tbody>\n",
       "    <tr>\n",
       "      <th>1990-02-01</th>\n",
       "      <td>7.48</td>\n",
       "      <td>0.321465</td>\n",
       "      <td>143.972</td>\n",
       "    </tr>\n",
       "    <tr>\n",
       "      <th>1990-03-01</th>\n",
       "      <td>7.57</td>\n",
       "      <td>0.353956</td>\n",
       "      <td>129.117</td>\n",
       "    </tr>\n",
       "    <tr>\n",
       "      <th>1990-04-01</th>\n",
       "      <td>7.69</td>\n",
       "      <td>0.334136</td>\n",
       "      <td>108.024</td>\n",
       "    </tr>\n",
       "    <tr>\n",
       "      <th>1990-05-01</th>\n",
       "      <td>7.96</td>\n",
       "      <td>0.317791</td>\n",
       "      <td>94.930</td>\n",
       "    </tr>\n",
       "    <tr>\n",
       "      <th>1990-06-01</th>\n",
       "      <td>8.10</td>\n",
       "      <td>0.289276</td>\n",
       "      <td>87.671</td>\n",
       "    </tr>\n",
       "    <tr>\n",
       "      <th>...</th>\n",
       "      <td>...</td>\n",
       "      <td>...</td>\n",
       "      <td>...</td>\n",
       "    </tr>\n",
       "    <tr>\n",
       "      <th>2024-05-01</th>\n",
       "      <td>16.43</td>\n",
       "      <td>0.758321</td>\n",
       "      <td>53.691</td>\n",
       "    </tr>\n",
       "    <tr>\n",
       "      <th>2024-06-01</th>\n",
       "      <td>16.42</td>\n",
       "      <td>0.742351</td>\n",
       "      <td>40.900</td>\n",
       "    </tr>\n",
       "    <tr>\n",
       "      <th>2024-07-01</th>\n",
       "      <td>16.63</td>\n",
       "      <td>0.733689</td>\n",
       "      <td>31.619</td>\n",
       "    </tr>\n",
       "    <tr>\n",
       "      <th>2024-08-01</th>\n",
       "      <td>16.63</td>\n",
       "      <td>0.732437</td>\n",
       "      <td>30.332</td>\n",
       "    </tr>\n",
       "    <tr>\n",
       "      <th>2024-09-01</th>\n",
       "      <td>16.83</td>\n",
       "      <td>0.679444</td>\n",
       "      <td>41.386</td>\n",
       "    </tr>\n",
       "  </tbody>\n",
       "</table>\n",
       "<p>416 rows × 3 columns</p>\n",
       "</div>"
      ],
      "text/plain": [
       "            Average Price of Electricity to Ultimate Customers, Residential  ...  Total Petroleum Consumed by the Residential Sector\n",
       "Month                                                                        ...                                                    \n",
       "1990-02-01                                               7.48                ...                                            143.972 \n",
       "1990-03-01                                               7.57                ...                                            129.117 \n",
       "1990-04-01                                               7.69                ...                                            108.024 \n",
       "1990-05-01                                               7.96                ...                                             94.930 \n",
       "1990-06-01                                               8.10                ...                                             87.671 \n",
       "...                                                       ...                ...                                                ... \n",
       "2024-05-01                                              16.43                ...                                             53.691 \n",
       "2024-06-01                                              16.42                ...                                             40.900 \n",
       "2024-07-01                                              16.63                ...                                             31.619 \n",
       "2024-08-01                                              16.63                ...                                             30.332 \n",
       "2024-09-01                                              16.83                ...                                             41.386 \n",
       "\n",
       "[416 rows x 3 columns]"
      ]
     },
     "execution_count": 5,
     "metadata": {},
     "output_type": "execute_result"
    }
   ],
   "source": [
    "df = pd.read_csv('./data/df1.csv', index_col=0)\n",
    "df"
   ]
  },
  {
   "cell_type": "markdown",
   "metadata": {},
   "source": [
    "Average price is in units of cents per kilowatt hour, including taxes.\n",
    "Renewable energy consumption is in units of quadrillion Btu (10^15)\n",
    "Petroleum consumption is in units of trillion Btu (10^12)\n",
    "Need to convert  energies to same unit."
   ]
  },
  {
   "cell_type": "code",
   "execution_count": null,
   "metadata": {},
   "outputs": [],
   "source": []
  }
 ],
 "metadata": {
  "kernelspec": {
   "display_name": "Python 3",
   "language": "python",
   "name": "python3"
  },
  "language_info": {
   "codemirror_mode": {
    "name": "ipython",
    "version": 3
   },
   "file_extension": ".py",
   "mimetype": "text/x-python",
   "name": "python",
   "nbconvert_exporter": "python",
   "pygments_lexer": "ipython3",
   "version": "3.10.4"
  }
 },
 "nbformat": 4,
 "nbformat_minor": 2
}
